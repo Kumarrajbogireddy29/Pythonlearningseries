{
 "cells": [
  {
   "cell_type": "markdown",
   "id": "532518d4",
   "metadata": {},
   "source": [
    "#### Day4 Concepts\n",
    "- continue with the operators\n",
    "- conditionals\n",
    "- loops"
   ]
  },
  {
   "cell_type": "code",
   "execution_count": 1,
   "id": "5622c3be",
   "metadata": {},
   "outputs": [],
   "source": [
    "#### operators"
   ]
  },
  {
   "cell_type": "code",
   "execution_count": 2,
   "id": "eb38be35",
   "metadata": {},
   "outputs": [],
   "source": [
    "# boolean,identity and membership,print()"
   ]
  },
  {
   "cell_type": "code",
   "execution_count": 3,
   "id": "83ec379e",
   "metadata": {
    "collapsed": true
   },
   "outputs": [
    {
     "name": "stdout",
     "output_type": "stream",
     "text": [
      "True False None\n"
     ]
    }
   ],
   "source": [
    "x=True\n",
    "y=False\n",
    "z=None\n",
    "print(x,y,z)"
   ]
  },
  {
   "cell_type": "code",
   "execution_count": 8,
   "id": "efbbaa17",
   "metadata": {
    "collapsed": true
   },
   "outputs": [
    {
     "name": "stdout",
     "output_type": "stream",
     "text": [
      "True\n"
     ]
    },
    {
     "name": "stderr",
     "output_type": "stream",
     "text": [
      "<>:3: SyntaxWarning: \"is\" with a literal. Did you mean \"==\"?\n",
      "<>:4: SyntaxWarning: \"is not\" with a literal. Did you mean \"!=\"?\n",
      "<>:3: SyntaxWarning: \"is\" with a literal. Did you mean \"==\"?\n",
      "<>:4: SyntaxWarning: \"is not\" with a literal. Did you mean \"!=\"?\n",
      "C:\\Users\\ruthu\\AppData\\Local\\Temp\\ipykernel_23516\\3859630494.py:3: SyntaxWarning: \"is\" with a literal. Did you mean \"==\"?\n",
      "  print(f is 10) #\n",
      "C:\\Users\\ruthu\\AppData\\Local\\Temp\\ipykernel_23516\\3859630494.py:4: SyntaxWarning: \"is not\" with a literal. Did you mean \"!=\"?\n",
      "  s is not 20\n"
     ]
    },
    {
     "data": {
      "text/plain": [
       "False"
      ]
     },
     "execution_count": 8,
     "metadata": {},
     "output_type": "execute_result"
    }
   ],
   "source": [
    "# identity :is,is not,id\n",
    "f=10;s=20;t=30\n",
    "print(f is 10) # \n",
    "s is not 20 # on which basis ?"
   ]
  },
  {
   "cell_type": "code",
   "execution_count": 9,
   "id": "fc16039d",
   "metadata": {
    "collapsed": true
   },
   "outputs": [
    {
     "data": {
      "text/plain": [
       "(3054455253584, 3054455253904)"
      ]
     },
     "execution_count": 9,
     "metadata": {},
     "output_type": "execute_result"
    }
   ],
   "source": [
    "id(f),id(s)"
   ]
  },
  {
   "cell_type": "code",
   "execution_count": 10,
   "id": "02b624b7",
   "metadata": {
    "collapsed": true
   },
   "outputs": [
    {
     "data": {
      "text/plain": [
       "(3054455253904, 3054455253904)"
      ]
     },
     "execution_count": 10,
     "metadata": {},
     "output_type": "execute_result"
    }
   ],
   "source": [
    "a=b=20\n",
    "id(a),id(b)"
   ]
  },
  {
   "cell_type": "code",
   "execution_count": 11,
   "id": "d073a875",
   "metadata": {},
   "outputs": [
    {
     "data": {
      "text/plain": [
       "True"
      ]
     },
     "execution_count": 11,
     "metadata": {},
     "output_type": "execute_result"
    }
   ],
   "source": [
    "## membership:in not in\n",
    "\"r\" in \"ravi\""
   ]
  },
  {
   "cell_type": "code",
   "execution_count": 12,
   "id": "42dc8f62",
   "metadata": {},
   "outputs": [
    {
     "data": {
      "text/plain": [
       "False"
      ]
     },
     "execution_count": 12,
     "metadata": {},
     "output_type": "execute_result"
    }
   ],
   "source": [
    "90 not in range(1,100)"
   ]
  },
  {
   "cell_type": "code",
   "execution_count": 15,
   "id": "cc4deea4",
   "metadata": {
    "collapsed": true
   },
   "outputs": [
    {
     "name": "stdout",
     "output_type": "stream",
     "text": [
      "Ramesh Bhavya Maya are friends\n",
      "Ramesh,Bhavya,Maya\n",
      "Ramesh,Bhavya,Maya,are friends."
     ]
    }
   ],
   "source": [
    "# end,sep\n",
    "st=\"Ramesh\"\n",
    "st2='Bhavya'\n",
    "st3='Maya'\n",
    "print(st,st2,st3,\"are friends\")\n",
    "print(st,st2,st3,sep=\",\")\n",
    "print(st,st2,st3,\"are friends\",sep=\",\",end=\".\")"
   ]
  },
  {
   "cell_type": "code",
   "execution_count": 17,
   "id": "81030c7e",
   "metadata": {},
   "outputs": [
    {
     "name": "stdout",
     "output_type": "stream",
     "text": [
      "\n",
      "\n"
     ]
    }
   ],
   "source": [
    "print() # \n",
    "print(end=\"\\n\")"
   ]
  },
  {
   "cell_type": "markdown",
   "id": "1da1fb5b",
   "metadata": {},
   "source": [
    "#### keywords\n",
    "- a reserved word which has special meaning and purposes\n",
    "- 35 keywords in python"
   ]
  },
  {
   "cell_type": "code",
   "execution_count": 19,
   "id": "fcbf1fb5",
   "metadata": {
    "collapsed": true
   },
   "outputs": [
    {
     "name": "stdout",
     "output_type": "stream",
     "text": [
      "['False', 'None', 'True', '__peg_parser__', 'and', 'as', 'assert', 'async', 'await', 'break', 'class', 'continue', 'def', 'del', 'elif', 'else', 'except', 'finally', 'for', 'from', 'global', 'if', 'import', 'in', 'is', 'lambda', 'nonlocal', 'not', 'or', 'pass', 'raise', 'return', 'try', 'while', 'with', 'yield']\n"
     ]
    }
   ],
   "source": [
    "import keyword\n",
    "print(keyword.kwlist)"
   ]
  },
  {
   "cell_type": "code",
   "execution_count": 20,
   "id": "87e1c239",
   "metadata": {
    "collapsed": true
   },
   "outputs": [
    {
     "ename": "SyntaxError",
     "evalue": "invalid syntax (2976706011.py, line 2)",
     "output_type": "error",
     "traceback": [
      "\u001b[1;36m  File \u001b[1;32m\"C:\\Users\\ruthu\\AppData\\Local\\Temp\\ipykernel_23516\\2976706011.py\"\u001b[1;36m, line \u001b[1;32m2\u001b[0m\n\u001b[1;33m    assert\u001b[0m\n\u001b[1;37m          ^\u001b[0m\n\u001b[1;31mSyntaxError\u001b[0m\u001b[1;31m:\u001b[0m invalid syntax\n"
     ]
    }
   ],
   "source": [
    "#process synchronization\n",
    "assert\n",
    "async\n",
    "await\n",
    "#"
   ]
  },
  {
   "cell_type": "markdown",
   "id": "ee42121f",
   "metadata": {},
   "source": [
    "#### login credentials authentication\n",
    "##### login into a page\n",
    "    - username and password\n",
    "        - wrong password\n",
    "            - forgot password\n",
    "            - new password\n",
    "    - successful login\n",
    "    "
   ]
  },
  {
   "cell_type": "code",
   "execution_count": 26,
   "id": "0b08223e",
   "metadata": {},
   "outputs": [
    {
     "name": "stdout",
     "output_type": "stream",
     "text": [
      "username:u123\n",
      "password:ruthu\n",
      "wrong password\n",
      "new passwordharish\n",
      "confirm passwordharish\n",
      "user name:u123\n",
      "Login successful..!\n"
     ]
    }
   ],
   "source": [
    "#Login to a page\n",
    "user,pwd=\"u123\",\"st@123\" # storing the data\n",
    "uname=input(\"username:\") # dynamic\n",
    "pswd=input(\"password:\")\n",
    "if uname==user and pswd==pwd:\n",
    "    print(\"Login Successful\")\n",
    "elif uname==user and pswd!=pwd:\n",
    "    print(\"wrong password\")\n",
    "    new=input(\"new password:\")\n",
    "    conf=input(\"confirm password:\")\n",
    "    if new==conf:\n",
    "        un=input(\"user name:\")\n",
    "        if un==user:\n",
    "            print(\"Login successful..!\")\n",
    "else:\n",
    "    print(\"invalid user\")"
   ]
  },
  {
   "cell_type": "markdown",
   "id": "74e71b19",
   "metadata": {},
   "source": [
    "#### conditional statements\n",
    "- if,else,elif(else if)\n",
    "- syntax\n",
    "    - if condition:\n",
    "        - statements\n",
    "    - elif condition:\n",
    "        - statements\n",
    "    - elif condition:\n",
    "        - statements\n",
    "    - else \n",
    "        - statements\n",
    "        "
   ]
  },
  {
   "cell_type": "markdown",
   "id": "2e181ddc",
   "metadata": {},
   "source": [
    "#### Loops\n",
    "- iteration of statement for multiple times\n",
    "- to avoid the repeatition of statements\n",
    "- for,while\n",
    "    - for loop syntax\n",
    "        - it contains 2 syntaxes\n",
    "            - for iterator in iterable\n",
    "            - for iterator in range(up)\n",
    "                - bydefault it starts from 1\n",
    "                - the default incrementation is 1\n",
    "            - for iterator in range(lw,up)\n",
    "            - for iterator in range(lw,up,step_count)\n",
    "            - for iterator in range(up,lw,-step_Count)\n",
    "              \n",
    "    - while"
   ]
  },
  {
   "cell_type": "code",
   "execution_count": 27,
   "id": "adf66dc5",
   "metadata": {
    "collapsed": true
   },
   "outputs": [
    {
     "name": "stdout",
     "output_type": "stream",
     "text": [
      "k\n",
      "a\n",
      "v\n",
      "y\n",
      "a\n"
     ]
    }
   ],
   "source": [
    "name=\"Pallavi\"\n",
    "for ch in \"kavya\":\n",
    "    print(ch)"
   ]
  },
  {
   "cell_type": "code",
   "execution_count": 28,
   "id": "c3bb116c",
   "metadata": {
    "collapsed": true
   },
   "outputs": [
    {
     "name": "stdout",
     "output_type": "stream",
     "text": [
      "p,a\n",
      "a,k\n",
      "l,s\n",
      "l,h\n",
      "a,a\n",
      "v,y\n",
      "i,a\n"
     ]
    }
   ],
   "source": [
    "for a,b in zip(\"pallavi\",'akshaya'):\n",
    "    print(a,b,sep=\",\")"
   ]
  },
  {
   "cell_type": "code",
   "execution_count": 29,
   "id": "91dbeaeb",
   "metadata": {
    "collapsed": true
   },
   "outputs": [
    {
     "name": "stdout",
     "output_type": "stream",
     "text": [
      "1,a\n",
      "2,b\n",
      "3,c\n"
     ]
    }
   ],
   "source": [
    "for i,i2 in zip((1,2,3),['a','b','c']):\n",
    "    print(i,i2,sep=\",\")"
   ]
  },
  {
   "cell_type": "code",
   "execution_count": 30,
   "id": "629fbd19",
   "metadata": {
    "collapsed": true
   },
   "outputs": [
    {
     "name": "stdout",
     "output_type": "stream",
     "text": [
      "50 51 52 53 54 55 56 57 58 59 60 61 62 63 64 65 66 67 68 69 70 71 72 73 74 75 76 77 78 79 80 81 82 83 84 85 86 87 88 89 90 91 92 93 94 95 96 97 98 99 100 101 102 103 104 105 106 107 108 109 110 111 112 113 114 115 116 117 118 119 120 121 122 123 124 125 126 127 128 129 130 131 132 133 134 135 136 137 138 139 140 141 142 143 144 145 146 147 148 149 150 151 152 153 154 155 156 157 158 159 160 161 162 163 164 165 166 167 168 169 170 171 172 173 174 175 176 177 178 179 180 181 182 183 184 185 186 187 188 189 190 191 192 193 194 195 196 197 198 199 "
     ]
    }
   ],
   "source": [
    "for val in range(50,200):\n",
    "    print(val,end=\" \")"
   ]
  },
  {
   "cell_type": "code",
   "execution_count": 31,
   "id": "4dd63583",
   "metadata": {},
   "outputs": [
    {
     "name": "stdout",
     "output_type": "stream",
     "text": [
      "11 13 15 17 19 21 23 25 27 29 31 33 35 37 39 41 43 45 47 49 "
     ]
    }
   ],
   "source": [
    "for val in range(10,50):\n",
    "    if val%2==1:\n",
    "        print(val,end=\" \")"
   ]
  },
  {
   "cell_type": "code",
   "execution_count": 39,
   "id": "b94affd3",
   "metadata": {
    "collapsed": true
   },
   "outputs": [
    {
     "name": "stdout",
     "output_type": "stream",
     "text": [
      "30\n",
      "900\n",
      "total no.of factors= 124\n",
      "no.of factors= 57\n"
     ]
    }
   ],
   "source": [
    "# count the tnf,fc within a range of 7\n",
    "tnf=0\n",
    "rnf=0\n",
    "for val in range(int(input()),int(input())+1):\n",
    "    if val%7==0:\n",
    "        if val in range(500,999):\n",
    "            rnf+=1\n",
    "            print(val,end=\" \")\n",
    "        tnf+=1\n",
    "print(\"total no.of factors=\",tnf)\n",
    "print(\"no.of factors=\",rnf)"
   ]
  },
  {
   "cell_type": "code",
   "execution_count": 40,
   "id": "b02f9db1",
   "metadata": {},
   "outputs": [
    {
     "name": "stdout",
     "output_type": "stream",
     "text": [
      "20 19 18 17 16 15 14 13 12 11 10 9 8 7 6 5 4 3 2 "
     ]
    }
   ],
   "source": [
    "# loop in reverse order\n",
    "for val in range(20,1,-1):\n",
    "    print(val,end=\" \")"
   ]
  },
  {
   "cell_type": "code",
   "execution_count": 41,
   "id": "31331af6",
   "metadata": {},
   "outputs": [
    {
     "name": "stdout",
     "output_type": "stream",
     "text": [
      "20 17 14 11 8 5 "
     ]
    }
   ],
   "source": [
    "for val in range(20,2,-3):\n",
    "    print(val,end=\" \")"
   ]
  },
  {
   "cell_type": "markdown",
   "id": "f4660855",
   "metadata": {},
   "source": [
    "##### while loop \n",
    "- it is a condition based iteration\n",
    "- the user incrementation "
   ]
  },
  {
   "cell_type": "code",
   "execution_count": 42,
   "id": "4d5a7725",
   "metadata": {
    "collapsed": true
   },
   "outputs": [
    {
     "name": "stdout",
     "output_type": "stream",
     "text": [
      "1\n",
      "2\n",
      "3\n",
      "4\n",
      "5\n",
      "6\n",
      "7\n",
      "8\n",
      "9\n",
      "10\n"
     ]
    }
   ],
   "source": [
    "num=1\n",
    "while num<=10: # universal truth: \n",
    "    print(num)\n",
    "    num+=1"
   ]
  },
  {
   "cell_type": "code",
   "execution_count": 43,
   "id": "e3ff9fcc",
   "metadata": {},
   "outputs": [
    {
     "name": "stdout",
     "output_type": "stream",
     "text": [
      "40 37 34 31 28 25 22 19 16 13 10 "
     ]
    }
   ],
   "source": [
    "up=40\n",
    "while up>=10:\n",
    "    print(up,end=\" \")\n",
    "    up-=3"
   ]
  },
  {
   "cell_type": "code",
   "execution_count": 46,
   "id": "3144c42f",
   "metadata": {},
   "outputs": [
    {
     "name": "stdout",
     "output_type": "stream",
     "text": [
      "prime no.s are :2 3 5 7 11 13 17 19 23 29 31 37 41 43 47 53 59 61 67 71 73 79 83 89 97 101 103 107 109 113 127 131 137 139 149 151 157 163 167 173 179 181 191 193 197 199 total no.of primes are  46\n"
     ]
    }
   ],
   "source": [
    "# nested loops\n",
    "#prime no.s present in a range\n",
    "#5,7,9,11:(1,5),(1,7),(1,3,9),(1,11)\n",
    "print(\"prime no.s are \",end=\":\")\n",
    "np=0\n",
    "for val in range(1,200):\n",
    "    fc=0\n",
    "    for dig in range(1,val//2+1):\n",
    "        if val%dig==0:\n",
    "            fc+=1\n",
    "    if fc==1:\n",
    "        print(val,end=\" \")\n",
    "        np+=1\n",
    "print(\"total no.of primes are \",np)\n"
   ]
  },
  {
   "cell_type": "code",
   "execution_count": null,
   "id": "49c5a1df",
   "metadata": {},
   "outputs": [],
   "source": [
    "# 1 example on each concept\n",
    "# nested while loop \n",
    "# nested while loop in reverse"
   ]
  }
 ],
 "metadata": {
  "kernelspec": {
   "display_name": "Python 3 (ipykernel)",
   "language": "python",
   "name": "python3"
  },
  "language_info": {
   "codemirror_mode": {
    "name": "ipython",
    "version": 3
   },
   "file_extension": ".py",
   "mimetype": "text/x-python",
   "name": "python",
   "nbconvert_exporter": "python",
   "pygments_lexer": "ipython3",
   "version": "3.9.13"
  }
 },
 "nbformat": 4,
 "nbformat_minor": 5
}
